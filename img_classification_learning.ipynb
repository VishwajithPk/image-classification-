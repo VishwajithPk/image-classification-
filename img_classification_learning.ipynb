{
  "nbformat": 4,
  "nbformat_minor": 0,
  "metadata": {
    "colab": {
      "provenance": [],
      "mount_file_id": "1MzvqhNgeONToFa_hO4PKpjslK4cmGsF0",
      "authorship_tag": "ABX9TyNlb/VQrFqRiftjCt6oLY8x",
      "include_colab_link": true
    },
    "kernelspec": {
      "name": "python3",
      "display_name": "Python 3"
    },
    "language_info": {
      "name": "python"
    }
  },
  "cells": [
    {
      "cell_type": "markdown",
      "metadata": {
        "id": "view-in-github",
        "colab_type": "text"
      },
      "source": [
        "<a href=\"https://colab.research.google.com/github/VishwajithPk/image-classification-/blob/main/img_classification_learning.ipynb\" target=\"_parent\"><img src=\"https://colab.research.google.com/assets/colab-badge.svg\" alt=\"Open In Colab\"/></a>"
      ]
    },
    {
      "cell_type": "code",
      "execution_count": 14,
      "metadata": {
        "id": "tsiAEv1VnNN4"
      },
      "outputs": [],
      "source": [
        "import tensorflow as tf\n",
        "import numpy as np\n",
        "import keras\n",
        "from keras import *\n",
        "from google.colab import files\n",
        "from google.colab import drive\n",
        "import cv2\n",
        "from google.colab.patches import cv2_imshow\n",
        "import os\n",
        "from keras.preprocessing.image import ImageDataGenerator\n",
        "from keras.preprocessing import image\n",
        "import keras.utils as image\n",
        "import matplotlib.pyplot as plt\n",
        "import matplotlib.image as mpimg"
      ]
    },
    {
      "cell_type": "code",
      "source": [
        "img_dir = '/content/drive/MyDrive'"
      ],
      "metadata": {
        "id": "QML7J2Kgn1pn"
      },
      "execution_count": 15,
      "outputs": []
    },
    {
      "cell_type": "code",
      "source": [
        "tf.random.set_seed(42)\n",
        "train_dataset = tf.keras.utils.image_dataset_from_directory(img_dir,\n",
        "                                                     validation_split=0.2,\n",
        "                                                     subset=\"training\",\n",
        "                                                     seed=123,image_size=(200, 200),\n",
        "                                                     batch_size=32)\n",
        "tf.random.set_seed(42)\n",
        "validation_dataset = tf.keras.utils.image_dataset_from_directory(img_dir,\n",
        "                                                     validation_split=0.2,\n",
        "                                                     subset=\"validation\",\n",
        "                                                     seed=123,image_size=(200, 200),\n",
        "                                                     batch_size=32)"
      ],
      "metadata": {
        "colab": {
          "base_uri": "https://localhost:8080/"
        },
        "id": "JfD2vYZgnagE",
        "outputId": "265b77fc-ba85-4dd1-a75b-1bd4dedf1d48"
      },
      "execution_count": 13,
      "outputs": [
        {
          "output_type": "stream",
          "name": "stdout",
          "text": [
            "Found 1512 files belonging to 4 classes.\n",
            "Using 1210 files for training.\n",
            "Found 1512 files belonging to 4 classes.\n",
            "Using 302 files for validation.\n"
          ]
        }
      ]
    },
    {
      "cell_type": "code",
      "source": [
        "for image_batch, labels_batch in train_dataset:\n",
        "  print(image_batch.shape)\n",
        "  print(labels_batch.shape)\n",
        "  break\n",
        "\n",
        "AUTOTUNE = tf.data.AUTOTUNE\n",
        "tf.random.set_seed(42)\n",
        "train_dataset = train_dataset.cache().shuffle(1000).prefetch(buffer_size=AUTOTUNE)\n",
        "tf.random.set_seed(42)\n",
        "validation_dataset = validation_dataset.cache().prefetch(buffer_size=AUTOTUNE)"
      ],
      "metadata": {
        "colab": {
          "base_uri": "https://localhost:8080/"
        },
        "id": "p36pztEBncqr",
        "outputId": "fc895c6a-302b-47af-ceeb-ed6a86f57135"
      },
      "execution_count": 16,
      "outputs": [
        {
          "output_type": "stream",
          "name": "stdout",
          "text": [
            "(32, 200, 200, 3)\n",
            "(32,)\n"
          ]
        }
      ]
    },
    {
      "cell_type": "code",
      "source": [
        "normalization_layer = tf.keras.layers.Rescaling(1./255)\n",
        "normalized_ds = train_dataset.map(lambda x, y: (normalization_layer(x), y))\n",
        "image_batch, labels_batch = next(iter(normalized_ds))\n",
        "first_image = image_batch[0]\n",
        "print(np.min(first_image), np.max(first_image))"
      ],
      "metadata": {
        "colab": {
          "base_uri": "https://localhost:8080/"
        },
        "id": "KXTWW4FSnfhR",
        "outputId": "4b43e31a-44c1-4b7f-d501-c2461f06b3b4"
      },
      "execution_count": 17,
      "outputs": [
        {
          "output_type": "stream",
          "name": "stdout",
          "text": [
            "0.004221672 0.98776007\n"
          ]
        }
      ]
    },
    {
      "cell_type": "code",
      "source": [
        "tf.random.set_seed(42)\n",
        "\n",
        "img_model = tf.keras.Sequential([\n",
        "    tf.keras.layers.Rescaling(1./255, input_shape=(200, 200, 3)),\n",
        "    tf.keras.layers.Conv2D(16, 3,(2,2), activation='relu', input_shape=(200,200,3)),\n",
        "    tf.keras.layers.MaxPooling2D(2,2),\n",
        "\n",
        "    tf.keras.layers.Conv2D(32, 3,(2,2), activation='relu', input_shape=(200,200,3)),\n",
        "    tf.keras.layers.MaxPooling2D(2,2),\n",
        "\n",
        "    tf.keras.layers.Conv2D(64,3,(2,2), activation='relu', input_shape=(200,200,3)),\n",
        "    tf.keras.layers.MaxPooling2D(2,2),\n",
        "\n",
        "    tf.keras.layers.Flatten(),\n",
        "\n",
        "    tf.keras.layers.Dense(128, activation='relu'),\n",
        "\n",
        "    tf.keras.layers.Dense(32, activation='relu'),\n",
        "\n",
        "    tf.keras.layers.Dense(1, activation='sigmoid')\n",
        "\n",
        "])"
      ],
      "metadata": {
        "id": "1_oa6UmdnhHn"
      },
      "execution_count": 18,
      "outputs": []
    },
    {
      "cell_type": "code",
      "source": [
        "img_model.compile(loss='binary_crossentropy',\n",
        "                  optimizer=tf.keras.optimizers.Adam(learning_rate=0.00004),\n",
        "                  metrics=['categorical_accuracy'])\n"
      ],
      "metadata": {
        "id": "zktM-JFNnjXQ"
      },
      "execution_count": 19,
      "outputs": []
    },
    {
      "cell_type": "code",
      "source": [
        "img_model.fit(train_dataset, epochs=5, validation_data=validation_dataset)"
      ],
      "metadata": {
        "colab": {
          "base_uri": "https://localhost:8080/"
        },
        "id": "d1FERlrinns3",
        "outputId": "c1a2dd16-04bf-4d76-b349-e38a00289ab8"
      },
      "execution_count": 20,
      "outputs": [
        {
          "output_type": "stream",
          "name": "stdout",
          "text": [
            "Epoch 1/5\n",
            "38/38 [==============================] - 10s 234ms/step - loss: 0.1181 - categorical_accuracy: 1.0000 - val_loss: -0.4301 - val_categorical_accuracy: 1.0000\n",
            "Epoch 2/5\n",
            "38/38 [==============================] - 6s 152ms/step - loss: -1.2143 - categorical_accuracy: 1.0000 - val_loss: -2.1953 - val_categorical_accuracy: 1.0000\n",
            "Epoch 3/5\n",
            "38/38 [==============================] - 7s 189ms/step - loss: -3.8278 - categorical_accuracy: 1.0000 - val_loss: -6.1036 - val_categorical_accuracy: 1.0000\n",
            "Epoch 4/5\n",
            "38/38 [==============================] - 6s 145ms/step - loss: -10.6258 - categorical_accuracy: 1.0000 - val_loss: -17.2383 - val_categorical_accuracy: 1.0000\n",
            "Epoch 5/5\n",
            "38/38 [==============================] - 8s 209ms/step - loss: -29.1826 - categorical_accuracy: 1.0000 - val_loss: -45.1489 - val_categorical_accuracy: 1.0000\n"
          ]
        },
        {
          "output_type": "execute_result",
          "data": {
            "text/plain": [
              "<keras.src.callbacks.History at 0x7b64e3989ea0>"
            ]
          },
          "metadata": {},
          "execution_count": 20
        }
      ]
    },
    {
      "cell_type": "code",
      "source": [
        "i = cv2.imread('/content/cat.4003.jpg')\n",
        "i = cv2.resize(i, (200,200))\n",
        "ar = np.asarray(i)\n",
        "ar = tf.convert_to_tensor(ar)\n",
        "ar = np.expand_dims(ar, axis=0)\n",
        "v = np.vstack([ar])\n",
        "val = img_model.predict(v)\n",
        "print(val)"
      ],
      "metadata": {
        "colab": {
          "base_uri": "https://localhost:8080/"
        },
        "id": "IjBFWJX5noZY",
        "outputId": "e5bd744e-80e0-4afe-94e8-502858e110ee"
      },
      "execution_count": 21,
      "outputs": [
        {
          "output_type": "stream",
          "name": "stdout",
          "text": [
            "1/1 [==============================] - 0s 95ms/step\n",
            "[[1.]]\n"
          ]
        }
      ]
    }
  ]
}